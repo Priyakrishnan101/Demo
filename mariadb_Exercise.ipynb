{
 "cells": [
  {
   "attachments": {},
   "cell_type": "markdown",
   "metadata": {},
   "source": [
    "generate_user_table():\n",
    "➢ Establish a connection to the test_db.\n",
    "➢ Create a user table with the following fields:\n",
    "▶ email varchar(100)\n",
    "▶ name varchar(50)\n",
    "▶ password varchar(30)\n",
    "➢ Insert the following values into the table:\n",
    "▶ 'ywbaek@perscholas.org', 'young', 'letsgomets'\n",
    "▶ 'mcordon@perscholas.org', 'marcial', 'perscholas'\n",
    "▶ 'mhaseeb@perscholas.org', 'haseeb', 'platform'"
   ]
  },
  {
   "cell_type": "code",
   "execution_count": 3,
   "metadata": {},
   "outputs": [
    {
     "name": "stdout",
     "output_type": "stream",
     "text": [
      "Connected to demo_db\n",
      "Created user_table\n",
      "Inserted values in user_table\n"
     ]
    }
   ],
   "source": [
    "import mysql.connector as mariadb\n",
    "def generate_user_table():\n",
    "    con=mariadb.connect(host=\"localhost\",user=\"root\",password=\"password\",database=\"demo_db\")\n",
    "    print(\"Connected to demo_db\")\n",
    "    cur=con.cursor() \n",
    "    st=\"create table user_table (email varchar(100),name varchar(50),password varchar(30))\"\n",
    "    cur.execute(st)\n",
    "    print(\"Created user_table\")\n",
    "    st=\"insert into user_table values\\\n",
    "    ('ywbaek@perscholas.org', 'young', 'letsgomets'),\\\n",
    "    ('mcordon@perscholas.org', 'marcial', 'perscholas'),\\\n",
    "    ('mhaseeb@perscholas.org', 'haseeb', 'platform')\"\n",
    "    print(\"Inserted values in user_table\")\n",
    "    cur.execute(st)\n",
    "    con.commit()\n",
    "    con.close()\n",
    "\n",
    "generate_user_table()\n"
   ]
  },
  {
   "attachments": {},
   "cell_type": "markdown",
   "metadata": {},
   "source": [
    "get_all_users():\n",
    "➢ Establish a connection to the test_db.\n",
    "➢ Print out the email, name, and password of all\n",
    "users."
   ]
  },
  {
   "cell_type": "code",
   "execution_count": 5,
   "metadata": {},
   "outputs": [
    {
     "name": "stdout",
     "output_type": "stream",
     "text": [
      "Connected to demo_db\n",
      "email: ywbaek@perscholas.org, Name : young, Password : letsgomets\n",
      "email: mcordon@perscholas.org, Name : marcial, Password : perscholas\n",
      "email: mhaseeb@perscholas.org, Name : haseeb, Password : platform\n"
     ]
    }
   ],
   "source": [
    "import mysql.connector as mariadb\n",
    "def get_all_users():\n",
    "    con=mariadb.connect(host=\"localhost\",user=\"root\",password=\"password\",database=\"demo_db\")\n",
    "    print(\"Connected to demo_db\")\n",
    "    cur=con.cursor() \n",
    "    st=\"select * from user_table\"\n",
    "    cur.execute(st)\n",
    "    for record in cur:\n",
    "        print(f\"email: {record[0]}, Name : {record[1]}, Password : {record[2]}\")\n",
    "    con.close()\n",
    "\n",
    "get_all_users()"
   ]
  },
  {
   "attachments": {},
   "cell_type": "markdown",
   "metadata": {},
   "source": [
    "get_user_by_name(name):\n",
    "➢ Establish a connection to the test_db.\n",
    "➢ Print out the email and password of the user with\n",
    "the given name."
   ]
  },
  {
   "cell_type": "code",
   "execution_count": 6,
   "metadata": {},
   "outputs": [
    {
     "name": "stdout",
     "output_type": "stream",
     "text": [
      "Connected to demo_db\n",
      "email : ywbaek@perscholas.org, password : letsgomets of young\n"
     ]
    }
   ],
   "source": [
    "import mysql.connector as mariadb\n",
    "def get_user_by_name(name):\n",
    "    con=mariadb.connect(host=\"localhost\",user=\"root\",password=\"password\",database=\"demo_db\")\n",
    "    print(\"Connected to demo_db\")\n",
    "    cur=con.cursor() \n",
    "    st=\"select email,password from user_table where name='{}'\"\n",
    "    cur.execute(st.format(name))\n",
    "    result=cur.fetchone()\n",
    "    print(f\"email : {result[0]}, password : {result[1]} of {name}\")\n",
    "    con.close()\n",
    "\n",
    "get_user_by_name('young')"
   ]
  },
  {
   "attachments": {},
   "cell_type": "markdown",
   "metadata": {},
   "source": [
    "validate_user(email, password):\n",
    "➢ Establish a connection to the test_db.\n",
    "➢ Return True if a user exists with the given email and\n",
    "password. Return False otherwise."
   ]
  },
  {
   "cell_type": "code",
   "execution_count": 7,
   "metadata": {},
   "outputs": [
    {
     "name": "stdout",
     "output_type": "stream",
     "text": [
      "Connected to demo_db\n",
      "True\n"
     ]
    }
   ],
   "source": [
    "import mysql.connector as mariadb\n",
    "def validate_user(email,password):\n",
    "    con=mariadb.connect(host=\"localhost\",user=\"root\",password=\"password\",database=\"demo_db\")\n",
    "    print(\"Connected to demo_db\")\n",
    "    cur=con.cursor() \n",
    "    st=\"select name from user_table where email='{}' and password='{}'\"\n",
    "    cur.execute(st.format(email, password))\n",
    "    result = cur.fetchone()\n",
    "    con.close()\n",
    "    if result:\n",
    "        return True\n",
    "    else:\n",
    "        return False\n",
    "    \n",
    "\n",
    "print(validate_user('ywbaek@perscholas.org','letsgomets'))"
   ]
  },
  {
   "attachments": {},
   "cell_type": "markdown",
   "metadata": {},
   "source": [
    "update_user(email, name, password):\n",
    "➢ Establish a connection to the test_db.\n",
    "➢ For the user with the given email, set the values of\n",
    "name and password to the given name and\n",
    "password.\n",
    "➢ Return True if successful, False otherwise."
   ]
  },
  {
   "cell_type": "code",
   "execution_count": 19,
   "metadata": {},
   "outputs": [
    {
     "name": "stdout",
     "output_type": "stream",
     "text": [
      "Connected to demo_db\n",
      "Updated 1 rows\n",
      "True\n"
     ]
    }
   ],
   "source": [
    "import mysql.connector as mariadb\n",
    "def update_user(name,password,email):\n",
    "    con=mariadb.connect(host=\"localhost\",user=\"root\",password=\"password\",database=\"demo_db\")\n",
    "    print(\"Connected to demo_db\")\n",
    "    cur=con.cursor()    \n",
    "    st=(f\"update user_table set name='{name}', password='{password}' where email='{email}'\")\n",
    "    cur.execute(st)\n",
    "    con.commit()\n",
    "    con.close()\n",
    "    if cur.rowcount:\n",
    "        print(f\"Updated {cur.rowcount} rows\")\n",
    "        return True\n",
    "        \n",
    "    else:\n",
    "        return False\n",
    "\n",
    "print(update_user('Priya','12345','mcordon@perscholas.org'))"
   ]
  }
 ],
 "metadata": {
  "kernelspec": {
   "display_name": "Python 3",
   "language": "python",
   "name": "python3"
  },
  "language_info": {
   "codemirror_mode": {
    "name": "ipython",
    "version": 3
   },
   "file_extension": ".py",
   "mimetype": "text/x-python",
   "name": "python",
   "nbconvert_exporter": "python",
   "pygments_lexer": "ipython3",
   "version": "3.11.0 (main, Oct 24 2022, 18:26:48) [MSC v.1933 64 bit (AMD64)]"
  },
  "orig_nbformat": 4,
  "vscode": {
   "interpreter": {
    "hash": "fc8b46890068e2a6de32ffa038f77616ac3974d41ce3c2c3a4261acff02db9ff"
   }
  }
 },
 "nbformat": 4,
 "nbformat_minor": 2
}
